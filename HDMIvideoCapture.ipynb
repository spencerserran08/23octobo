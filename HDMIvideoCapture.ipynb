{
  "nbformat": 4,
  "nbformat_minor": 0,
  "metadata": {
    "colab": {
      "provenance": [],
      "authorship_tag": "ABX9TyNY7fpYgd+W37NchACbagW3",
      "include_colab_link": true
    },
    "kernelspec": {
      "name": "python3",
      "display_name": "Python 3"
    },
    "language_info": {
      "name": "python"
    }
  },
  "cells": [
    {
      "cell_type": "markdown",
      "metadata": {
        "id": "view-in-github",
        "colab_type": "text"
      },
      "source": [
        "<a href=\"https://colab.research.google.com/github/spencerserran08/23octobo/blob/main/HDMIvideoCapture.ipynb\" target=\"_parent\"><img src=\"https://colab.research.google.com/assets/colab-badge.svg\" alt=\"Open In Colab\"/></a>"
      ]
    },
    {
      "cell_type": "code",
      "source": [
        "pip install pynq"
      ],
      "metadata": {
        "colab": {
          "base_uri": "https://localhost:8080/"
        },
        "id": "4hflPvlxN3m7",
        "outputId": "1fed0f75-482d-4070-eed1-02d367c5150f"
      },
      "execution_count": null,
      "outputs": [
        {
          "output_type": "stream",
          "name": "stdout",
          "text": [
            "Looking in indexes: https://pypi.org/simple, https://us-python.pkg.dev/colab-wheels/public/simple/\n",
            "Collecting pynq\n",
            "  Downloading pynq-3.0.1.tar.gz (63.0 MB)\n",
            "\u001b[2K     \u001b[90m━━━━━━━━━━━━━━━━━━━━━━━━━━━━━━━━━━━━━━━━\u001b[0m \u001b[32m63.0/63.0 MB\u001b[0m \u001b[31m13.7 MB/s\u001b[0m eta \u001b[36m0:00:00\u001b[0m\n",
            "\u001b[?25h  Preparing metadata (setup.py) ... \u001b[?25l\u001b[?25hdone\n",
            "Collecting pynqutils>=0.0.1\n",
            "  Downloading pynqutils-0.1.1-py3-none-any.whl (30 kB)\n",
            "Collecting pynqmetadata>=0.0.1\n",
            "  Downloading pynqmetadata-0.1.5.tar.gz (237 kB)\n",
            "\u001b[2K     \u001b[90m━━━━━━━━━━━━━━━━━━━━━━━━━━━━━━━━━━━━━━\u001b[0m \u001b[32m237.6/237.6 kB\u001b[0m \u001b[31m26.8 MB/s\u001b[0m eta \u001b[36m0:00:00\u001b[0m\n",
            "\u001b[?25h  Preparing metadata (setup.py) ... \u001b[?25l\u001b[?25hdone\n",
            "Requirement already satisfied: setuptools>=24.2.0 in /usr/local/lib/python3.9/dist-packages (from pynq) (67.6.1)\n",
            "Requirement already satisfied: cffi in /usr/local/lib/python3.9/dist-packages (from pynq) (1.15.1)\n",
            "Requirement already satisfied: numpy in /usr/local/lib/python3.9/dist-packages (from pynq) (1.22.4)\n",
            "Requirement already satisfied: nest_asyncio in /usr/local/lib/python3.9/dist-packages (from pynq) (1.5.6)\n",
            "Requirement already satisfied: jsonschema>=3.2.0 in /usr/local/lib/python3.9/dist-packages (from pynqmetadata>=0.0.1->pynq) (4.3.3)\n",
            "Requirement already satisfied: pydantic in /usr/local/lib/python3.9/dist-packages (from pynqmetadata>=0.0.1->pynq) (1.10.7)\n",
            "Requirement already satisfied: tqdm in /usr/local/lib/python3.9/dist-packages (from pynqutils>=0.0.1->pynq) (4.65.0)\n",
            "Collecting python-magic>=0.4.25\n",
            "  Downloading python_magic-0.4.27-py2.py3-none-any.whl (13 kB)\n",
            "Requirement already satisfied: pycparser in /usr/local/lib/python3.9/dist-packages (from cffi->pynq) (2.21)\n",
            "Requirement already satisfied: pyrsistent!=0.17.0,!=0.17.1,!=0.17.2,>=0.14.0 in /usr/local/lib/python3.9/dist-packages (from jsonschema>=3.2.0->pynqmetadata>=0.0.1->pynq) (0.19.3)\n",
            "Requirement already satisfied: attrs>=17.4.0 in /usr/local/lib/python3.9/dist-packages (from jsonschema>=3.2.0->pynqmetadata>=0.0.1->pynq) (22.2.0)\n",
            "Requirement already satisfied: typing-extensions>=4.2.0 in /usr/local/lib/python3.9/dist-packages (from pydantic->pynqmetadata>=0.0.1->pynq) (4.5.0)\n",
            "Building wheels for collected packages: pynq, pynqmetadata\n",
            "  Building wheel for pynq (setup.py) ... \u001b[?25l\u001b[?25hdone\n",
            "  Created wheel for pynq: filename=pynq-3.0.1-cp39-cp39-linux_x86_64.whl size=11129356 sha256=1d3dc591d9f211873241be2d0cd3c259af3a96f65a8485e979a16e63baf8e468\n",
            "  Stored in directory: /root/.cache/pip/wheels/e4/ec/de/31da5f1ae430d83a180eb2cc9c15488ac96a898174d2efc276\n",
            "  Building wheel for pynqmetadata (setup.py) ... \u001b[?25l\u001b[?25hdone\n",
            "  Created wheel for pynqmetadata: filename=pynqmetadata-0.1.5-py3-none-any.whl size=276893 sha256=faa84b380a471f9aab50b5ed7f4a869f7c8424d3e4ac32925cb1ca6db8c5ebcd\n",
            "  Stored in directory: /root/.cache/pip/wheels/49/cb/e9/394c3f4eb7f0547e6b9a0858b64c564c3efb2dd02e40e721fa\n",
            "Successfully built pynq pynqmetadata\n",
            "Installing collected packages: python-magic, pynqmetadata, pynqutils, pynq\n",
            "Successfully installed pynq-3.0.1 pynqmetadata-0.1.5 pynqutils-0.1.1 python-magic-0.4.27\n"
          ]
        }
      ]
    },
    {
      "cell_type": "code",
      "execution_count": null,
      "metadata": {
        "colab": {
          "base_uri": "https://localhost:8080/",
          "height": 329
        },
        "id": "fVMzL3kKNvky",
        "outputId": "625d5217-68ff-4e1d-a099-89ec43006ce3"
      },
      "outputs": [
        {
          "output_type": "error",
          "ename": "ModuleNotFoundError",
          "evalue": "ignored",
          "traceback": [
            "\u001b[0;31m---------------------------------------------------------------------------\u001b[0m",
            "\u001b[0;31mModuleNotFoundError\u001b[0m                       Traceback (most recent call last)",
            "\u001b[0;32m<ipython-input-1-586a73620098>\u001b[0m in \u001b[0;36m<cell line: 1>\u001b[0;34m()\u001b[0m\n\u001b[0;32m----> 1\u001b[0;31m \u001b[0;32mfrom\u001b[0m \u001b[0mpynq\u001b[0m\u001b[0;34m.\u001b[0m\u001b[0mpl\u001b[0m \u001b[0;32mimport\u001b[0m \u001b[0mOverlay\u001b[0m\u001b[0;34m\u001b[0m\u001b[0;34m\u001b[0m\u001b[0m\n\u001b[0m\u001b[1;32m      2\u001b[0m \u001b[0mOverlay\u001b[0m\u001b[0;34m(\u001b[0m\u001b[0;34m\"base.bit\"\u001b[0m\u001b[0;34m)\u001b[0m\u001b[0;34m.\u001b[0m\u001b[0mdownload\u001b[0m\u001b[0;34m(\u001b[0m\u001b[0;34m)\u001b[0m\u001b[0;34m\u001b[0m\u001b[0;34m\u001b[0m\u001b[0m\n",
            "\u001b[0;31mModuleNotFoundError\u001b[0m: No module named 'pynq'",
            "",
            "\u001b[0;31m---------------------------------------------------------------------------\u001b[0;32m\nNOTE: If your import is failing due to a missing package, you can\nmanually install dependencies using either !pip or !apt.\n\nTo view examples of installing some common dependencies, click the\n\"Open Examples\" button below.\n\u001b[0;31m---------------------------------------------------------------------------\u001b[0m\n"
          ],
          "errorDetails": {
            "actions": [
              {
                "action": "open_url",
                "actionText": "Open Examples",
                "url": "/notebooks/snippets/importing_libraries.ipynb"
              }
            ]
          }
        }
      ],
      "source": [
        "from pynq.pl import Overlay\n",
        "Overlay(\"base.bit\").download()"
      ]
    }
  ]
}